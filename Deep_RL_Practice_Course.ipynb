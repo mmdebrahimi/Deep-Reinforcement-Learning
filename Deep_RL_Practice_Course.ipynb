{
  "nbformat": 4,
  "nbformat_minor": 0,
  "metadata": {
    "colab": {
      "name": "Deep_RL_Practice_Course.ipynb",
      "provenance": [],
      "collapsed_sections": [],
      "authorship_tag": "ABX9TyOFEOqqbSkKXVD/G5M6B19Q",
      "include_colab_link": true
    },
    "kernelspec": {
      "name": "python3",
      "display_name": "Python 3"
    },
    "language_info": {
      "name": "python"
    }
  },
  "cells": [
    {
      "cell_type": "markdown",
      "metadata": {
        "id": "view-in-github",
        "colab_type": "text"
      },
      "source": [
        "<a href=\"https://colab.research.google.com/github/mmdebrahimi/Deep-Reinforcement-Learning/blob/main/Deep_RL_Practice_Course.ipynb\" target=\"_parent\"><img src=\"https://colab.research.google.com/assets/colab-badge.svg\" alt=\"Open In Colab\"/></a>"
      ]
    },
    {
      "cell_type": "code",
      "execution_count": 10,
      "metadata": {
        "id": "jDg-MfIxY22X"
      },
      "outputs": [],
      "source": [
        "import gym\n",
        "import numpy as np\n",
        "import matplotlib.pyplot as plt"
      ]
    },
    {
      "cell_type": "code",
      "source": [
        "def get_action(s, w):\n",
        "  # print(\"s.dot(w) equals: :\", s.dot(w))\n",
        "  # print(\"S: \", s, \"W: \", w)\n",
        "  return 1 if s.dot(w) > 0 else 0"
      ],
      "metadata": {
        "id": "0UyGP_xzZAmP"
      },
      "execution_count": 11,
      "outputs": []
    },
    {
      "cell_type": "code",
      "source": [
        "def play_one_episode(env, params):\n",
        "  observation = env.reset()\n",
        "  done = False\n",
        "  t = 0\n",
        "  r = 0\n",
        "  while not done and t < 10000:\n",
        "    t += 1\n",
        "    # print(\"action \", t, \":\")\n",
        "    action = get_action(observation, params)\n",
        "    observation, reward, done, info = env.step(action)\n",
        "    r += reward\n",
        "  # print(\"PARAMS: \", params)\n",
        "  # print(100 * \"-\")\n",
        "  return r"
      ],
      "metadata": {
        "id": "4T3PgwVvZJX-"
      },
      "execution_count": 12,
      "outputs": []
    },
    {
      "cell_type": "code",
      "source": [
        "def play_multiple_episodes(env, T, params):\n",
        "  episode_rewards = np.empty(T)\n",
        "\n",
        "  for i in range(T):\n",
        "    episode_rewards[i] = play_one_episode(env, params)\n",
        "    # print(100*\"X\")\n",
        "  avg_reward = episode_rewards.mean()\n",
        "  # print(\"avg reward:\", avg_reward)\n",
        "  return avg_reward\n"
      ],
      "metadata": {
        "id": "zIFvzfs7ZJqP"
      },
      "execution_count": 13,
      "outputs": []
    },
    {
      "cell_type": "code",
      "source": [
        "def random_search(env):\n",
        "  episode_rewards = []\n",
        "  best = 0\n",
        "  params = None\n",
        "  for t in range(100):\n",
        "    new_params = np.random.random(4)*2 - 1 #it is size 4 because the state space is size 4\n",
        "    # print(\"NEW PARAMS: \", new_params)\n",
        "    avg_reward = play_multiple_episodes(env, 100, new_params)\n",
        "    episode_rewards.append(avg_reward)\n",
        "\n",
        "    if avg_reward > best:\n",
        "      params = new_params\n",
        "      best = avg_reward\n",
        "  return episode_rewards, params\n",
        "if __name__ == '__main__':\n",
        "  env = gym.make('CartPole-v1')\n",
        "  # print(\"ENV: \", env)\n",
        "  episode_rewards, params = random_search(env)\n",
        "  plt.plot(episode_rewards)\n",
        "  plt.show()\n",
        "\n",
        "  #play a final set of episodes\n",
        "  print(\"***Final run with final weights***\")\n",
        "  print(\"params: \", params)\n",
        "  play_multiple_episodes(env, 100, params)\n",
        "\n"
      ],
      "metadata": {
        "colab": {
          "base_uri": "https://localhost:8080/",
          "height": 300
        },
        "id": "0_AEiW9kZJs7",
        "outputId": "b04b53bf-3716-4241-99cd-9789fefba41a"
      },
      "execution_count": 14,
      "outputs": [
        {
          "output_type": "display_data",
          "data": {
            "text/plain": [
              "<Figure size 432x288 with 1 Axes>"
            ],
            "image/png": "[encoded data removed]"
          },
          "metadata": {
            "needs_background": "light"
          }
        },
        {
          "output_type": "stream",
          "name": "stdout",
          "text": [
            "***Final run with final weights***\n",
            "params:  [ 0.13487742 -0.00269133  0.74619609  0.50003131]\n"
          ]
        }
      ]
    },
    {
      "cell_type": "code",
      "source": [
        ""
      ],
      "metadata": {
        "id": "QwpeYgi9ZJvc"
      },
      "execution_count": 14,
      "outputs": []
    },
    {
      "cell_type": "code",
      "source": [
        ""
      ],
      "metadata": {
        "id": "NQEVAvoOZJ0E"
      },
      "execution_count": 14,
      "outputs": []
    },
    {
      "cell_type": "code",
      "source": [
        ""
      ],
      "metadata": {
        "id": "ZV7ZzDEfZJ2s"
      },
      "execution_count": 14,
      "outputs": []
    },
    {
      "cell_type": "code",
      "source": [
        ""
      ],
      "metadata": {
        "id": "Dp8St6tTZJ5V"
      },
      "execution_count": 14,
      "outputs": []
    },
    {
      "cell_type": "code",
      "source": [
        ""
      ],
      "metadata": {
        "id": "HdDATfNmZJ78"
      },
      "execution_count": 14,
      "outputs": []
    },
    {
      "cell_type": "code",
      "source": [
        ""
      ],
      "metadata": {
        "id": "hWzDztk3ZJ-e"
      },
      "execution_count": 14,
      "outputs": []
    },
    {
      "cell_type": "code",
      "source": [
        ""
      ],
      "metadata": {
        "id": "HOl5DXp1ZKBL"
      },
      "execution_count": 14,
      "outputs": []
    },
    {
      "cell_type": "code",
      "source": [
        ""
      ],
      "metadata": {
        "id": "s5qu0HmnZKD6"
      },
      "execution_count": 14,
      "outputs": []
    }
  ]
}